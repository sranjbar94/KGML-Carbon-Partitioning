# Example usage
from src.data_preprocessing import load_and_scale_data
from src.train import train_model
from src.visualization import plot_predictions

# 1. Load data
features = ['PAR_NEON','SoilMoisture_NEON','vpd_NEON','AirTemperature_NEON']
target = ['GPP']
X, y, scaler = load_and_scale_data('../data/KGML_CarbonPartition_Dataset.csv', features, target)

# 2. Define idx_map for model
idx_map = {feat:i for i, feat in enumerate(features)}

# 3. Train model
model = train_model(X, idx_map, epochs=50)

# 4. Make predictions and plot
model.eval()
with torch.no_grad():
    y_pred = model(X, idx_map)['GPP'].cpu().numpy()

plot_predictions(y.numpy(), y_pred)
