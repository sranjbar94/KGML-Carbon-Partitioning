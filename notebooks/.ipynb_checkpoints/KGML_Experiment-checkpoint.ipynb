{
 "cells": [
  {
   "cell_type": "code",
   "execution_count": null,
   "id": "a6704058",
   "metadata": {},
   "outputs": [],
   "source": [
    "# Example usage\n",
    "from src.data_preprocessing import load_and_scale_data\n",
    "from src.train import train_model\n",
    "from src.visualization import plot_predictions\n",
    "\n",
    "# 1. Load data\n",
    "features = ['PAR_NEON','SoilMoisture_NEON','vpd_NEON','AirTemperature_NEON']\n",
    "target = ['GPP']\n",
    "X, y, scaler = load_and_scale_data('../data/KGML_CarbonPartition_Dataset.csv', features, target)\n",
    "\n",
    "# 2. Define idx_map for model\n",
    "idx_map = {feat:i for i, feat in enumerate(features)}\n",
    "\n",
    "# 3. Train model\n",
    "model = train_model(X, idx_map, epochs=50)\n",
    "\n",
    "# 4. Make predictions and plot\n",
    "model.eval()\n",
    "with torch.no_grad():\n",
    "    y_pred = model(X, idx_map)['GPP'].cpu().numpy()\n",
    "\n",
    "plot_predictions(y.numpy(), y_pred)\n"
   ]
  }
 ],
 "metadata": {
  "kernelspec": {
   "display_name": "Python 3 (ipykernel)",
   "language": "python",
   "name": "python3"
  },
  "language_info": {
   "codemirror_mode": {
    "name": "ipython",
    "version": 3
   },
   "file_extension": ".py",
   "mimetype": "text/x-python",
   "name": "python",
   "nbconvert_exporter": "python",
   "pygments_lexer": "ipython3",
   "version": "3.10.9"
  }
 },
 "nbformat": 4,
 "nbformat_minor": 5
}
